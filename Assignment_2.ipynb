{
 "cells": [
  {
   "cell_type": "markdown",
   "metadata": {},
   "source": [
    "# Question 1"
   ]
  },
  {
   "cell_type": "code",
   "execution_count": 1,
   "metadata": {},
   "outputs": [
    {
     "name": "stdout",
     "output_type": "stream",
     "text": [
      "*\n",
      "* *\n",
      "* * *\n",
      "* * * *\n",
      "* * * * *\n",
      "* * * *\n",
      "* * *\n",
      "* *\n",
      "*\n"
     ]
    }
   ],
   "source": [
    "val=5\n",
    "#for loop to print pattern\n",
    "for i in range(val):\n",
    "    print((\"* \"*(i+1)).strip())\n",
    "#strip used to remove whitespaces end and start of string\n",
    "for i in range(val-1,0,-1):\n",
    "    print((\"* \"*(i)).strip())\n"
   ]
  },
  {
   "cell_type": "markdown",
   "metadata": {},
   "source": [
    "# Question 2"
   ]
  },
  {
   "cell_type": "code",
   "execution_count": 2,
   "metadata": {},
   "outputs": [
    {
     "name": "stdout",
     "output_type": "stream",
     "text": [
      "The elements at odd indexes are: \n",
      "20 40 60 80 100 "
     ]
    }
   ],
   "source": [
    "my_list= [10, 20, 30, 40, 50, 60, 70, 80, 90, 100]\n",
    "print(\"The elements at odd indexes are: \")\n",
    "for i in range(len(my_list)):\n",
    "    if i%2!=0:\n",
    "        print(my_list[i],end=\" \")"
   ]
  },
  {
   "cell_type": "markdown",
   "metadata": {},
   "source": [
    "# Question 3"
   ]
  },
  {
   "cell_type": "code",
   "execution_count": 3,
   "metadata": {},
   "outputs": [
    {
     "name": "stdout",
     "output_type": "stream",
     "text": [
      "23 Python 23.98\n",
      "[23, 'Python', 23.98]\n",
      "[<class 'int'>, <class 'str'>, <class 'float'>]\n"
     ]
    }
   ],
   "source": [
    "x=input().split()\n",
    "types=[]\n",
    "#initially the user takes as input as string and converts to original type of the value\n",
    "for i in range(len(x)):\n",
    "    if '.' in x[i] and not(x[i].isalpha()):\n",
    "        x[i]=float(x[i])\n",
    "    elif x[i].isnumeric():\n",
    "        x[i]=int(x[i])\n",
    "#type function is used to determine type of an list element\n",
    "for i in range(len(x)):\n",
    "    types.append(type(x[i]))\n",
    "    \n",
    "print(x)\n",
    "print(types)"
   ]
  },
  {
   "cell_type": "markdown",
   "metadata": {},
   "source": [
    "# Question 4"
   ]
  },
  {
   "cell_type": "code",
   "execution_count": 4,
   "metadata": {},
   "outputs": [
    {
     "name": "stdout",
     "output_type": "stream",
     "text": [
      "Sample List: [1, 2, 3, 3, 3, 3, 4, 5]\n",
      "Unique List: [1, 2, 3, 4, 5]\n"
     ]
    }
   ],
   "source": [
    "def unique_list(x):\n",
    "    k=[]\n",
    "    for i in range(len(x)):\n",
    "        #No duplicate allowed condition\n",
    "        if x[i] not in k:\n",
    "            k.append(x[i])\n",
    "    return k\n",
    "\n",
    "#input list\n",
    "x=[1,2,3,3,3,3,4,5]\n",
    "print(\"Sample List:\",x)\n",
    "#Here calls unique_list function\n",
    "print(\"Unique List:\",unique_list(x))"
   ]
  },
  {
   "cell_type": "markdown",
   "metadata": {},
   "source": [
    "# Question 5"
   ]
  },
  {
   "cell_type": "code",
   "execution_count": 5,
   "metadata": {},
   "outputs": [
    {
     "name": "stdout",
     "output_type": "stream",
     "text": [
      "Input String: The quick Brow Fox\n",
      "No. of Upper-case characters: 3\n",
      "No. of Lower-case characters: 12\n"
     ]
    }
   ],
   "source": [
    "a=input(\"Input String: \").strip()\n",
    "lower_count=upper_count=0\n",
    "#isupper function checks whether the given letter is upper_case or not\n",
    "#islower function checks whether the given letter is lower_case or not\n",
    "for i in range(len(a)):\n",
    "    if a[i].isalpha() and a[i].isupper():\n",
    "        upper_count+=1\n",
    "    elif a[i].isalpha() and a[i].islower():\n",
    "        lower_count+=1\n",
    "print(\"No. of Upper-case characters:\",upper_count)\n",
    "print(\"No. of Lower-case characters:\",lower_count)"
   ]
  }
 ],
 "metadata": {
  "kernelspec": {
   "display_name": "Python 3",
   "language": "python",
   "name": "python3"
  },
  "language_info": {
   "codemirror_mode": {
    "name": "ipython",
    "version": 3
   },
   "file_extension": ".py",
   "mimetype": "text/x-python",
   "name": "python",
   "nbconvert_exporter": "python",
   "pygments_lexer": "ipython3",
   "version": "3.8.5"
  }
 },
 "nbformat": 4,
 "nbformat_minor": 4
}
